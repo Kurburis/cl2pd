{
 "cells": [
  {
   "cell_type": "code",
   "execution_count": 1,
   "metadata": {},
   "outputs": [],
   "source": [
    "#Here you are an header example\n",
    "import cl2pd # do \"pip install --user git+https://github.com/sterbini/cl2pd.git\" to install\n",
    "from cl2pd import importData\n",
    "from cl2pd import plotFunctions\n",
    "from cl2pd import dotdict\n",
    "from cl2pd import bbFunctions\n",
    "from cl2pd import variablesDF\n",
    "\n",
    "dotdict=dotdict.dotdict\n",
    "pd=importData.pd     # is the pandas package\n",
    "np=importData.np     # is the numpy package\n",
    "cals=importData.cals # pytimber log class\n",
    "\n",
    "import matplotlib.pyplot as plt\n",
    "get_ipython().magic('matplotlib inline')\n",
    "#%config InlineBackend.figure_format = 'retina' # retina display\n",
    "mySource='/eos/user/s/sterbini/MD_ANALYSIS/2018/BB encounter schedule/BBEncouterSchedule.ipynb'"
   ]
  },
  {
   "cell_type": "markdown",
   "metadata": {},
   "source": [
    "# Introduction\n",
    "\n",
    "In this notebook we weill present some tools for computing the beam-beam encounter schedules in LHC.\n",
    "\n",
    "This notebook is an implementation of the approach presented in \n",
    "\n",
    "https://hackmd.web.cern.ch/xC504CWmQG685DDRwOm3Og\n",
    "\n",
    "The contribution of **Axel Poyet** was fundamental."
   ]
  },
  {
   "cell_type": "markdown",
   "metadata": {},
   "source": [
    "# Step 1: the beam-beam matrix"
   ]
  },
  {
   "cell_type": "code",
   "execution_count": 2,
   "metadata": {},
   "outputs": [],
   "source": [
    "# First of all, one needs the so called beam-beam matrix. This matrix does not depend on the MAD-X file or by the filling scheme but only of the bucket distance of the IPs in LHC.\n",
    "myMatrix=bbFunctions.computeBBMatrix(numberOfLRToConsider=25)"
   ]
  },
  {
   "cell_type": "code",
   "execution_count": 3,
   "metadata": {},
   "outputs": [],
   "source": [
    "fillingSchemeDF=importData.LHCCals2pd(['LHC.BCTFR.A6R4.B%:BUNCH_FILL_PATTERN'],6216, ['FLATTOP'],flag='next') #BB MD 2017\n",
    "B1_bunches=np.where(fillingSchemeDF.iloc[0]['LHC.BCTFR.A6R4.B1:BUNCH_FILL_PATTERN'])[0]\n",
    "B2_bunches=np.where(fillingSchemeDF.iloc[0]['LHC.BCTFR.A6R4.B2:BUNCH_FILL_PATTERN'])[0]"
   ]
  },
  {
   "cell_type": "code",
   "execution_count": 4,
   "metadata": {},
   "outputs": [
    {
     "data": {
      "text/plain": [
       "array([  0, 100, 200, 201, 202, 203, 204, 205, 206, 207, 208, 209, 210,\n",
       "       211, 300, 301, 302, 303, 304, 305, 306, 307, 308, 309, 310, 311,\n",
       "       312, 313, 314, 315, 316, 317, 318, 319, 320, 321, 322, 323, 324,\n",
       "       325, 326, 327, 328, 329, 330, 331, 332, 333, 334, 335, 336, 337,\n",
       "       338, 339, 340, 341, 342, 343, 344, 345, 346, 347, 400, 401, 402,\n",
       "       403, 404, 405, 406, 407, 408, 409, 410, 411, 412, 413, 414, 415,\n",
       "       416, 417, 418, 419, 420, 421, 422, 423, 424, 425, 426, 427, 428,\n",
       "       429, 430, 431, 432, 433, 434, 435, 436, 437, 438, 439, 440, 441,\n",
       "       442, 443, 444, 445, 446, 447, 500, 501, 502, 503, 504, 505, 506,\n",
       "       507, 512, 513, 514, 515, 516, 517, 518, 519, 524, 525, 526, 527,\n",
       "       528, 529, 530, 531, 536, 537, 538, 539, 540, 541, 542, 543, 548,\n",
       "       549, 550, 551, 552, 553, 554, 555, 560, 561, 562, 563, 564, 565,\n",
       "       566, 567, 572, 573, 574, 575, 576, 577, 578, 579])"
      ]
     },
     "execution_count": 4,
     "metadata": {},
     "output_type": "execute_result"
    }
   ],
   "source": [
    "B1_bunches"
   ]
  },
  {
   "cell_type": "code",
   "execution_count": 5,
   "metadata": {},
   "outputs": [
    {
     "data": {
      "text/plain": [
       "array([ 20, 100, 200, 201, 202, 203, 204, 205, 206, 207, 208, 209, 210,\n",
       "       211, 300, 301, 302, 303, 304, 305, 306, 307, 308, 309, 310, 311,\n",
       "       312, 313, 314, 315, 316, 317, 318, 319, 320, 321, 322, 323, 324,\n",
       "       325, 326, 327, 328, 329, 330, 331, 332, 333, 334, 335, 336, 337,\n",
       "       338, 339, 340, 341, 342, 343, 344, 345, 346, 347, 400, 401, 402,\n",
       "       403, 404, 405, 406, 407, 408, 409, 410, 411, 412, 413, 414, 415,\n",
       "       416, 417, 418, 419, 420, 421, 422, 423, 424, 425, 426, 427, 428,\n",
       "       429, 430, 431, 432, 433, 434, 435, 436, 437, 438, 439, 440, 441,\n",
       "       442, 443, 444, 445, 446, 447, 500, 501, 502, 503, 504, 505, 506,\n",
       "       507, 512, 513, 514, 515, 516, 517, 518, 519, 524, 525, 526, 527,\n",
       "       528, 529, 530, 531, 536, 537, 538, 539, 540, 541, 542, 543, 548,\n",
       "       549, 550, 551, 552, 553, 554, 555, 560, 561, 562, 563, 564, 565,\n",
       "       566, 567, 572, 573, 574, 575, 576, 577, 578, 579])"
      ]
     },
     "execution_count": 5,
     "metadata": {},
     "output_type": "execute_result"
    }
   ],
   "source": [
    "B2_bunches"
   ]
  },
  {
   "cell_type": "code",
   "execution_count": 6,
   "metadata": {},
   "outputs": [],
   "source": [
    "# uncomment to \n",
    "#plotFunctions.plot_BBMatrix(myMatrix,B1_bunches,B2_bunches, alpha=1) \n"
   ]
  },
  {
   "cell_type": "markdown",
   "metadata": {},
   "source": [
    "## Step 2: Beam BB pattern\n",
    "Now, we will consider the filling scheme. The idea is therefore to filter the previous results, with the filling scheme, in order to obtain the real BB pattern for one given bunch of one given beam in one given experiment.\n",
    "\n",
    "As an output, we will have, for one bunch of one beam in one experiment, the bunch numbers of all the encounters (HO+LR) and their relative position wrt the IP (ie, where does our bunch meet this particular encounter?)."
   ]
  },
  {
   "cell_type": "code",
   "execution_count": 7,
   "metadata": {},
   "outputs": [],
   "source": [
    "# Definition of a NAIVE filling scheme\n",
    "B1_bunches=np.array([0,1,2])\n",
    "B2_bunches=np.array([0,1,2])\n",
    "results=bbFunctions.BBEncounterSchedule(B1_bunches, B2_bunches, myMatrix) # this is a dotdict (a special dictionary)"
   ]
  },
  {
   "cell_type": "code",
   "execution_count": 8,
   "metadata": {},
   "outputs": [
    {
     "data": {
      "text/plain": [
       "{'atEncounters': array([0, 1, 2]), 'atPositions': array([0, 1, 2])}"
      ]
     },
     "execution_count": 8,
     "metadata": {},
     "output_type": "execute_result"
    }
   ],
   "source": [
    "results.atB1.at0000.atCMS"
   ]
  },
  {
   "cell_type": "code",
   "execution_count": 9,
   "metadata": {},
   "outputs": [
    {
     "data": {
      "text/html": [
       "<div>\n",
       "<style scoped>\n",
       "    .dataframe tbody tr th:only-of-type {\n",
       "        vertical-align: middle;\n",
       "    }\n",
       "\n",
       "    .dataframe tbody tr th {\n",
       "        vertical-align: top;\n",
       "    }\n",
       "\n",
       "    .dataframe thead th {\n",
       "        text-align: right;\n",
       "    }\n",
       "</style>\n",
       "<table border=\"1\" class=\"dataframe\">\n",
       "  <thead>\n",
       "    <tr style=\"text-align: right;\">\n",
       "      <th></th>\n",
       "      <th>atALICE</th>\n",
       "      <th>atATLAS</th>\n",
       "      <th>atCMS</th>\n",
       "      <th>atLHCB</th>\n",
       "    </tr>\n",
       "  </thead>\n",
       "  <tbody>\n",
       "    <tr>\n",
       "      <th>atEncounters</th>\n",
       "      <td>[]</td>\n",
       "      <td>[0, 1, 2]</td>\n",
       "      <td>[0, 1, 2]</td>\n",
       "      <td>[]</td>\n",
       "    </tr>\n",
       "    <tr>\n",
       "      <th>atPositions</th>\n",
       "      <td>[]</td>\n",
       "      <td>[-1, 0, 1]</td>\n",
       "      <td>[-1, 0, 1]</td>\n",
       "      <td>[]</td>\n",
       "    </tr>\n",
       "  </tbody>\n",
       "</table>\n",
       "</div>"
      ],
      "text/plain": [
       "             atALICE     atATLAS       atCMS atLHCB\n",
       "atEncounters      []   [0, 1, 2]   [0, 1, 2]     []\n",
       "atPositions       []  [-1, 0, 1]  [-1, 0, 1]     []"
      ]
     },
     "execution_count": 9,
     "metadata": {},
     "output_type": "execute_result"
    }
   ],
   "source": [
    "pd.DataFrame(results.atB1.at0001)# it is very easy to cast a dictionary in a pd.Dataframe"
   ]
  },
  {
   "cell_type": "code",
   "execution_count": 10,
   "metadata": {},
   "outputs": [
    {
     "data": {
      "text/html": [
       "<div>\n",
       "<style scoped>\n",
       "    .dataframe tbody tr th:only-of-type {\n",
       "        vertical-align: middle;\n",
       "    }\n",
       "\n",
       "    .dataframe tbody tr th {\n",
       "        vertical-align: top;\n",
       "    }\n",
       "\n",
       "    .dataframe thead th {\n",
       "        text-align: right;\n",
       "    }\n",
       "</style>\n",
       "<table border=\"1\" class=\"dataframe\">\n",
       "  <thead>\n",
       "    <tr style=\"text-align: right;\">\n",
       "      <th></th>\n",
       "      <th>atALICE</th>\n",
       "      <th>atATLAS</th>\n",
       "      <th>atCMS</th>\n",
       "      <th>atLHCB</th>\n",
       "    </tr>\n",
       "  </thead>\n",
       "  <tbody>\n",
       "    <tr>\n",
       "      <th>atEncounters</th>\n",
       "      <td>[]</td>\n",
       "      <td>[2, 1, 0]</td>\n",
       "      <td>[2, 1, 0]</td>\n",
       "      <td>[]</td>\n",
       "    </tr>\n",
       "    <tr>\n",
       "      <th>atPositions</th>\n",
       "      <td>[]</td>\n",
       "      <td>[-2, -1, 0]</td>\n",
       "      <td>[-2, -1, 0]</td>\n",
       "      <td>[]</td>\n",
       "    </tr>\n",
       "  </tbody>\n",
       "</table>\n",
       "</div>"
      ],
      "text/plain": [
       "             atALICE      atATLAS        atCMS atLHCB\n",
       "atEncounters      []    [2, 1, 0]    [2, 1, 0]     []\n",
       "atPositions       []  [-2, -1, 0]  [-2, -1, 0]     []"
      ]
     },
     "execution_count": 10,
     "metadata": {},
     "output_type": "execute_result"
    }
   ],
   "source": [
    "pd.DataFrame(results.atB2.at0000)"
   ]
  },
  {
   "cell_type": "code",
   "execution_count": 11,
   "metadata": {},
   "outputs": [
    {
     "data": {
      "text/plain": [
       "<matplotlib.axes._subplots.AxesSubplot at 0x7fc358011c90>"
      ]
     },
     "execution_count": 11,
     "metadata": {},
     "output_type": "execute_result"
    },
    {
     "data": {
      "image/png": "[encoded data removed]",
      "text/plain": [
       "<matplotlib.figure.Figure at 0x7fc358011550>"
      ]
     },
     "metadata": {},
     "output_type": "display_data"
    }
   ],
   "source": [
    "# Visualizing the BB encounter schedule\n",
    "plotFunctions.plotBBEncounterSchedule(results,beam='atB1',exp='atCMS',bunch=0)"
   ]
  },
  {
   "cell_type": "code",
   "execution_count": 12,
   "metadata": {},
   "outputs": [
    {
     "data": {
      "text/plain": [
       "<matplotlib.axes._subplots.AxesSubplot at 0x7fc3500bb610>"
      ]
     },
     "execution_count": 12,
     "metadata": {},
     "output_type": "execute_result"
    },
    {
     "data": {
      "image/png": "[encoded data removed]",
      "text/plain": [
       "<matplotlib.figure.Figure at 0x7fc3500f6b10>"
      ]
     },
     "metadata": {},
     "output_type": "display_data"
    }
   ],
   "source": [
    "plotFunctions.plotBBEncounterSchedule(results,beam='atB2',exp='atATLAS',bunch=0)"
   ]
  },
  {
   "cell_type": "code",
   "execution_count": 13,
   "metadata": {},
   "outputs": [],
   "source": [
    "# Definition of a realistic filling scheme (this can take ~1 minute)\n",
    "fillingSchemeDF=importData.LHCCals2pd(['LHC.BCTFR.A6R4.B%:BUNCH_FILL_PATTERN'],6666, ['FLATTOP'],flag='next')\n",
    "B1_bunches=np.where(fillingSchemeDF.iloc[0]['LHC.BCTFR.A6R4.B1:BUNCH_FILL_PATTERN'])[0]\n",
    "B2_bunches=np.where(fillingSchemeDF.iloc[0]['LHC.BCTFR.A6R4.B2:BUNCH_FILL_PATTERN'])[0]\n",
    "results=bbFunctions.BBEncounterSchedule(B1_bunches, B2_bunches, myMatrix)"
   ]
  },
  {
   "cell_type": "code",
   "execution_count": 14,
   "metadata": {},
   "outputs": [
    {
     "data": {
      "text/html": [
       "<div>\n",
       "<style scoped>\n",
       "    .dataframe tbody tr th:only-of-type {\n",
       "        vertical-align: middle;\n",
       "    }\n",
       "\n",
       "    .dataframe tbody tr th {\n",
       "        vertical-align: top;\n",
       "    }\n",
       "\n",
       "    .dataframe thead th {\n",
       "        text-align: right;\n",
       "    }\n",
       "</style>\n",
       "<table border=\"1\" class=\"dataframe\">\n",
       "  <thead>\n",
       "    <tr style=\"text-align: right;\">\n",
       "      <th></th>\n",
       "      <th>atALICE</th>\n",
       "      <th>atATLAS</th>\n",
       "      <th>atCMS</th>\n",
       "      <th>atLHCB</th>\n",
       "    </tr>\n",
       "  </thead>\n",
       "  <tbody>\n",
       "    <tr>\n",
       "      <th>atEncounters</th>\n",
       "      <td>[919, 920, 921, 922, 923, 924, 925, 926, 927, ...</td>\n",
       "      <td>[25, 26, 27, 28, 29, 30, 31, 32, 33, 34, 35, 36]</td>\n",
       "      <td>[25, 26, 27, 28, 29, 30, 31, 32, 33, 34, 35, 36]</td>\n",
       "      <td>[2707, 2708, 2709, 2710, 2711, 2712, 2713, 271...</td>\n",
       "    </tr>\n",
       "    <tr>\n",
       "      <th>atPositions</th>\n",
       "      <td>[-14, -13, -12, -11, -10, -9, -8, -7, -6, -5, ...</td>\n",
       "      <td>[-17, -16, -15, -14, -13, -12, -11, -10, -9, -...</td>\n",
       "      <td>[-17, -16, -15, -14, -13, -12, -11, -10, -9, -...</td>\n",
       "      <td>[-5, -4, -3, -2, -1, 0, 1, 2, 3, 4, 5, 6, 7, 8...</td>\n",
       "    </tr>\n",
       "  </tbody>\n",
       "</table>\n",
       "</div>"
      ],
      "text/plain": [
       "                                                        atALICE  \\\n",
       "atEncounters  [919, 920, 921, 922, 923, 924, 925, 926, 927, ...   \n",
       "atPositions   [-14, -13, -12, -11, -10, -9, -8, -7, -6, -5, ...   \n",
       "\n",
       "                                                        atATLAS  \\\n",
       "atEncounters   [25, 26, 27, 28, 29, 30, 31, 32, 33, 34, 35, 36]   \n",
       "atPositions   [-17, -16, -15, -14, -13, -12, -11, -10, -9, -...   \n",
       "\n",
       "                                                          atCMS  \\\n",
       "atEncounters   [25, 26, 27, 28, 29, 30, 31, 32, 33, 34, 35, 36]   \n",
       "atPositions   [-17, -16, -15, -14, -13, -12, -11, -10, -9, -...   \n",
       "\n",
       "                                                         atLHCB  \n",
       "atEncounters  [2707, 2708, 2709, 2710, 2711, 2712, 2713, 271...  \n",
       "atPositions   [-5, -4, -3, -2, -1, 0, 1, 2, 3, 4, 5, 6, 7, 8...  "
      ]
     },
     "execution_count": 14,
     "metadata": {},
     "output_type": "execute_result"
    }
   ],
   "source": [
    "pd.DataFrame(results.atB1.at0042)"
   ]
  },
  {
   "cell_type": "code",
   "execution_count": 15,
   "metadata": {},
   "outputs": [
    {
     "data": {
      "text/plain": [
       "<matplotlib.axes._subplots.AxesSubplot at 0x7fc35009cb10>"
      ]
     },
     "execution_count": 15,
     "metadata": {},
     "output_type": "execute_result"
    },
    {
     "data": {
      "image/png": "[encoded data removed]",
      "text/plain": [
       "<matplotlib.figure.Figure at 0x7fc350062090>"
      ]
     },
     "metadata": {},
     "output_type": "display_data"
    }
   ],
   "source": [
    "plotFunctions.plotBBEncounterSchedule(results,beam='atB2',exp='atLHCB',bunch=29)"
   ]
  },
  {
   "cell_type": "code",
   "execution_count": null,
   "metadata": {},
   "outputs": [],
   "source": []
  }
 ],
 "metadata": {
  "kernelspec": {
   "display_name": "Python 2",
   "language": "python",
   "name": "python2"
  },
  "language_info": {
   "codemirror_mode": {
    "name": "ipython",
    "version": 2
   },
   "file_extension": ".py",
   "mimetype": "text/x-python",
   "name": "python",
   "nbconvert_exporter": "python",
   "pygments_lexer": "ipython2",
   "version": "2.7.13"
  }
 },
 "nbformat": 4,
 "nbformat_minor": 2
}
