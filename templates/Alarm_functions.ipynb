{
 "cells": [
  {
   "cell_type": "code",
   "execution_count": 1,
   "metadata": {},
   "outputs": [],
   "source": [
    "import cl2pd\n",
    "from cl2pd import importData\n",
    "from cl2pd import plotFunctions\n",
    "from cl2pd import dotdict\n",
    "from cl2pd import MDanalysis\n",
    "from cl2pd import variablesDF\n",
    "\n",
    "dotdict=dotdict.dotdict\n",
    "pd=importData.pd     # is the pandas package\n",
    "np=importData.np     # is the numpy package\n",
    "cals=importData.cals # pytimber log class\n",
    "\n",
    "import matplotlib.pyplot as plt\n",
    "import itertools\n",
    "get_ipython().magic('matplotlib inline')\n",
    "%config InlineBackend.figure_format = 'retina' # retina display\n",
    "#mySource='/eos/user/a/apoyet/SWAN_projects/2018/md2pd/Tune_Measurement.ipynb'\n",
    "#myTitle='Machine Development - Tune Measurements'"
   ]
  },
  {
   "cell_type": "markdown",
   "metadata": {},
   "source": [
    "# Color map definitions\n",
    "---"
   ]
  },
  {
   "cell_type": "code",
   "execution_count": 43,
   "metadata": {},
   "outputs": [],
   "source": [
    "def color_temperature(val):\n",
    "    color = 'red' if val > 30 else 'green'\n",
    "    return 'color: %s' % color"
   ]
  },
  {
   "cell_type": "markdown",
   "metadata": {},
   "source": [
    "# Variables\n",
    "---"
   ]
  },
  {
   "cell_type": "code",
   "execution_count": 41,
   "metadata": {},
   "outputs": [],
   "source": [
    "TEMP_VAR = list(variablesDF.LHC[variablesDF.LHC['Description'].str.contains('temperature')]['Variable'])"
   ]
  },
  {
   "cell_type": "markdown",
   "metadata": {},
   "source": [
    "# Monitoring \n",
    "---"
   ]
  },
  {
   "cell_type": "code",
   "execution_count": 42,
   "metadata": {},
   "outputs": [
    {
     "data": {
      "text/html": [
       "<style  type=\"text/css\" >\n",
       "    #T_6d7c4004_6eec_11e8_ad52_0242ac110004row0_col0 {\n",
       "            color:  green;\n",
       "        }    #T_6d7c4004_6eec_11e8_ad52_0242ac110004row1_col0 {\n",
       "            color:  green;\n",
       "        }    #T_6d7c4004_6eec_11e8_ad52_0242ac110004row2_col0 {\n",
       "            color:  green;\n",
       "        }    #T_6d7c4004_6eec_11e8_ad52_0242ac110004row3_col0 {\n",
       "            color:  green;\n",
       "        }    #T_6d7c4004_6eec_11e8_ad52_0242ac110004row4_col0 {\n",
       "            color:  green;\n",
       "        }    #T_6d7c4004_6eec_11e8_ad52_0242ac110004row5_col0 {\n",
       "            color:  green;\n",
       "        }    #T_6d7c4004_6eec_11e8_ad52_0242ac110004row6_col0 {\n",
       "            color:  green;\n",
       "        }    #T_6d7c4004_6eec_11e8_ad52_0242ac110004row7_col0 {\n",
       "            color:  green;\n",
       "        }    #T_6d7c4004_6eec_11e8_ad52_0242ac110004row8_col0 {\n",
       "            color:  green;\n",
       "        }    #T_6d7c4004_6eec_11e8_ad52_0242ac110004row9_col0 {\n",
       "            color:  green;\n",
       "        }    #T_6d7c4004_6eec_11e8_ad52_0242ac110004row10_col0 {\n",
       "            color:  green;\n",
       "        }    #T_6d7c4004_6eec_11e8_ad52_0242ac110004row11_col0 {\n",
       "            color:  green;\n",
       "        }    #T_6d7c4004_6eec_11e8_ad52_0242ac110004row12_col0 {\n",
       "            color:  green;\n",
       "        }    #T_6d7c4004_6eec_11e8_ad52_0242ac110004row13_col0 {\n",
       "            color:  green;\n",
       "        }    #T_6d7c4004_6eec_11e8_ad52_0242ac110004row14_col0 {\n",
       "            color:  green;\n",
       "        }    #T_6d7c4004_6eec_11e8_ad52_0242ac110004row15_col0 {\n",
       "            color:  green;\n",
       "        }</style>  \n",
       "<table id=\"T_6d7c4004_6eec_11e8_ad52_0242ac110004\" > \n",
       "<thead>    <tr> \n",
       "        <th class=\"blank level0\" ></th> \n",
       "        <th class=\"col_heading level0 col0\" >Last Value</th> \n",
       "    </tr></thead> \n",
       "<tbody>    <tr> \n",
       "        <th id=\"T_6d7c4004_6eec_11e8_ad52_0242ac110004level0_row0\" class=\"row_heading level0 row0\" >TCTPV_4R1_B2_TTLU.POSST</th> \n",
       "        <td id=\"T_6d7c4004_6eec_11e8_ad52_0242ac110004row0_col0\" class=\"data row0 col0\" >28.5</td> \n",
       "    </tr>    <tr> \n",
       "        <th id=\"T_6d7c4004_6eec_11e8_ad52_0242ac110004level0_row1\" class=\"row_heading level0 row1\" >TCTPV_4R1_B2_TTLD.POSST</th> \n",
       "        <td id=\"T_6d7c4004_6eec_11e8_ad52_0242ac110004row1_col0\" class=\"data row1 col0\" >27.7</td> \n",
       "    </tr>    <tr> \n",
       "        <th id=\"T_6d7c4004_6eec_11e8_ad52_0242ac110004level0_row2\" class=\"row_heading level0 row2\" >TCTPV_4R1_B2_TTRU.POSST</th> \n",
       "        <td id=\"T_6d7c4004_6eec_11e8_ad52_0242ac110004row2_col0\" class=\"data row2 col0\" >27.3</td> \n",
       "    </tr>    <tr> \n",
       "        <th id=\"T_6d7c4004_6eec_11e8_ad52_0242ac110004level0_row3\" class=\"row_heading level0 row3\" >TCTPV_4R1_B2_TTRD.POSST</th> \n",
       "        <td id=\"T_6d7c4004_6eec_11e8_ad52_0242ac110004row3_col0\" class=\"data row3 col0\" >28.4</td> \n",
       "    </tr>    <tr> \n",
       "        <th id=\"T_6d7c4004_6eec_11e8_ad52_0242ac110004level0_row4\" class=\"row_heading level0 row4\" >TCLVW_A5L1_B2_TTLU.POSST</th> \n",
       "        <td id=\"T_6d7c4004_6eec_11e8_ad52_0242ac110004row4_col0\" class=\"data row4 col0\" >27.7</td> \n",
       "    </tr>    <tr> \n",
       "        <th id=\"T_6d7c4004_6eec_11e8_ad52_0242ac110004level0_row5\" class=\"row_heading level0 row5\" >TCLVW_A5L1_B2_TTLD.POSST</th> \n",
       "        <td id=\"T_6d7c4004_6eec_11e8_ad52_0242ac110004row5_col0\" class=\"data row5 col0\" >27.5</td> \n",
       "    </tr>    <tr> \n",
       "        <th id=\"T_6d7c4004_6eec_11e8_ad52_0242ac110004level0_row6\" class=\"row_heading level0 row6\" >TCLVW_A5L1_B2_TTRU.POSST</th> \n",
       "        <td id=\"T_6d7c4004_6eec_11e8_ad52_0242ac110004row6_col0\" class=\"data row6 col0\" >27.3</td> \n",
       "    </tr>    <tr> \n",
       "        <th id=\"T_6d7c4004_6eec_11e8_ad52_0242ac110004level0_row7\" class=\"row_heading level0 row7\" >TCLVW_A5L1_B2_TTRD.POSST</th> \n",
       "        <td id=\"T_6d7c4004_6eec_11e8_ad52_0242ac110004row7_col0\" class=\"data row7 col0\" >28.3</td> \n",
       "    </tr>    <tr> \n",
       "        <th id=\"T_6d7c4004_6eec_11e8_ad52_0242ac110004level0_row8\" class=\"row_heading level0 row8\" >TCTPH_4R5_B2_TTLU.POSST</th> \n",
       "        <td id=\"T_6d7c4004_6eec_11e8_ad52_0242ac110004row8_col0\" class=\"data row8 col0\" >26.9</td> \n",
       "    </tr>    <tr> \n",
       "        <th id=\"T_6d7c4004_6eec_11e8_ad52_0242ac110004level0_row9\" class=\"row_heading level0 row9\" >TCTPH_4R5_B2_TTLD.POSST</th> \n",
       "        <td id=\"T_6d7c4004_6eec_11e8_ad52_0242ac110004row9_col0\" class=\"data row9 col0\" >27.4</td> \n",
       "    </tr>    <tr> \n",
       "        <th id=\"T_6d7c4004_6eec_11e8_ad52_0242ac110004level0_row10\" class=\"row_heading level0 row10\" >TCTPH_4R5_B2_TTRU.POSST</th> \n",
       "        <td id=\"T_6d7c4004_6eec_11e8_ad52_0242ac110004row10_col0\" class=\"data row10 col0\" >28.2</td> \n",
       "    </tr>    <tr> \n",
       "        <th id=\"T_6d7c4004_6eec_11e8_ad52_0242ac110004level0_row11\" class=\"row_heading level0 row11\" >TCTPH_4R5_B2_TTRD.POSST</th> \n",
       "        <td id=\"T_6d7c4004_6eec_11e8_ad52_0242ac110004row11_col0\" class=\"data row11 col0\" >28.1</td> \n",
       "    </tr>    <tr> \n",
       "        <th id=\"T_6d7c4004_6eec_11e8_ad52_0242ac110004level0_row12\" class=\"row_heading level0 row12\" >TCL_4L5_B2_TTLU.POSST</th> \n",
       "        <td id=\"T_6d7c4004_6eec_11e8_ad52_0242ac110004row12_col0\" class=\"data row12 col0\" >27.7</td> \n",
       "    </tr>    <tr> \n",
       "        <th id=\"T_6d7c4004_6eec_11e8_ad52_0242ac110004level0_row13\" class=\"row_heading level0 row13\" >TCL_4L5_B2_TTLD.POSST</th> \n",
       "        <td id=\"T_6d7c4004_6eec_11e8_ad52_0242ac110004row13_col0\" class=\"data row13 col0\" >27.7</td> \n",
       "    </tr>    <tr> \n",
       "        <th id=\"T_6d7c4004_6eec_11e8_ad52_0242ac110004level0_row14\" class=\"row_heading level0 row14\" >TCL_4L5_B2_TTRU.POSST</th> \n",
       "        <td id=\"T_6d7c4004_6eec_11e8_ad52_0242ac110004row14_col0\" class=\"data row14 col0\" >27.5</td> \n",
       "    </tr>    <tr> \n",
       "        <th id=\"T_6d7c4004_6eec_11e8_ad52_0242ac110004level0_row15\" class=\"row_heading level0 row15\" >TCL_4L5_B2_TTRD.POSST</th> \n",
       "        <td id=\"T_6d7c4004_6eec_11e8_ad52_0242ac110004row15_col0\" class=\"data row15 col0\" >28.6</td> \n",
       "    </tr></tbody> \n",
       "</table> "
      ],
      "text/plain": [
       "<pandas.io.formats.style.Styler at 0x7fe5f4cc6710>"
      ]
     },
     "execution_count": 42,
     "metadata": {},
     "output_type": "execute_result"
    }
   ],
   "source": [
    "myDF = pd.DataFrame(columns=['Last Value'])\n",
    "for i in TEMP_VAR:\n",
    "    myDF.loc[i] = importData.cals2pd(i,t1=pd.Timestamp.now(tz='CET'),t2='last').values[0][0]\n",
    "myDF.style.applymap(color_temperature)"
   ]
  },
  {
   "cell_type": "code",
   "execution_count": null,
   "metadata": {},
   "outputs": [],
   "source": []
  }
 ],
 "metadata": {
  "kernelspec": {
   "display_name": "Python 2",
   "language": "python",
   "name": "python2"
  },
  "language_info": {
   "codemirror_mode": {
    "name": "ipython",
    "version": 2
   },
   "file_extension": ".py",
   "mimetype": "text/x-python",
   "name": "python",
   "nbconvert_exporter": "python",
   "pygments_lexer": "ipython2",
   "version": "2.7.13"
  }
 },
 "nbformat": 4,
 "nbformat_minor": 2
}
